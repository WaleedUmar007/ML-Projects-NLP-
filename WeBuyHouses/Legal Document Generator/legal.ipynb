{
 "cells": [
  {
   "attachments": {},
   "cell_type": "markdown",
   "metadata": {},
   "source": [
    "# Importing the required statements"
   ]
  },
  {
   "cell_type": "code",
   "execution_count": 1,
   "metadata": {},
   "outputs": [],
   "source": [
    "import os \n",
    "import openai"
   ]
  },
  {
   "attachments": {},
   "cell_type": "markdown",
   "metadata": {},
   "source": [
    "## Establishing the connection with API key"
   ]
  },
  {
   "cell_type": "code",
   "execution_count": 2,
   "metadata": {},
   "outputs": [],
   "source": [
    "openai.api_key = os.getenv('API_Key')"
   ]
  },
  {
   "attachments": {},
   "cell_type": "markdown",
   "metadata": {},
   "source": [
    "## Generating the model and the prompts"
   ]
  },
  {
   "cell_type": "code",
   "execution_count": 3,
   "metadata": {},
   "outputs": [
    {
     "name": "stdout",
     "output_type": "stream",
     "text": [
      "Response: \n",
      "\n",
      "AGREEMENT FOR PURCHASE OF REAL ESTATE \n",
      "BETWEEN [SELLER NAME] (“Seller”) AND [BUYER NAME] (“Buyer”) \n",
      "This Agreement is made and entered into as of the [DATE], by and between [SELLER NAME], hereinafter referred to as “Seller,” and [BUYER NAME], hereinafter referred to as “Buyer.”\n",
      "WITNESSETH: \n",
      "WHEREAS, Seller is the owner of certain real estate situated in Australia; and \n",
      "WHEREAS, Buyer desires to purchase from Seller said real estate located at[ADDRESS OF PROPERTY]; \n",
      "NOW THEREFORE, for good consideration given herein, both parties agree as follows:  \n",
      "\n",
      "1. Purchase Price. The total purchase price for the property shall be agreed upon by Buyer and Seller in writing prior to closing. All earnest money deposits shall be held by a neutral third party escrow agent until closing or termination of this contract. In addition all applicable taxes shall be paid directly to the appropriate taxing authority on or before closing date.  \n",
      "\n",
      "2. Closing Date & Timeframe: The closing date will take place no later than thirty days after signing of this agreement unless otherwise specified in writing by both parties prior to execution of this document with mutually agreeable terms that do not conflict with any applicable state laws or regulations governing such transactions (Real Property Act 1900).  \n",
      "\n",
      "3a) Title Insurance & Transfer Fees : Buyer agrees that they are responsible for obtaining title insurance covering their interest in the property purchased under this agreement at their own cost along with any associated transfer fees required during settlement process .  \n",
      "\n",
      "3b) Deeds/Documents : Upon completion of payment per section 1 above , seller agrees deliver deed(s), other documents necessary for conveyance including but not limited to survey report , bill of sale etc.,to buyer within 7 business days following receipt funds from escrow agent provided all conditions have been satisfied according to terms laid out herein .   \n",
      "\n",
      "4 ) Property Condition/Inspection: It is understood that buyer has inspected property prior entering into this agreement and acknowledges it is being sold \"as-is\" without warranties expressed or implied .   \n",
      "\n",
      "5 ) Default : In event either party fails perform its obligations under this contract then defaulting party may be liable damages suffered due nonperformance which may include but not limited costs incurred enforcement rights set forth herein .    \n",
      "6 ) Governing Law / Jurisdiction : This Agreement shall governed construed accordance laws State Victoria ,Australia where transaction takes place jurisdiction any disputes arising thereunder lie solely courts same state .    \t\t\t\t\t\t            IN WITNESS WHEREOF, each party has executed its signature below on behalf itself day year first written above .      SELLER BUYER Name Name Signature Signature\n",
      "Response: \n",
      "Response: <?php\n",
      "/**\n",
      " * Copyright © 2016 Magento. All rights reserved.\n",
      " * See COPYING.txt for license details.\n",
      " */\n",
      "namespace Magento\\Quote\\Model\\Cart;\n",
      "\n",
      "use Magento\\Framework\\Exception\\NoSuchEntityException;\n",
      "\n",
      " class CartTotalRepository implements \\Magento\\Quote\\Api\\CartTotalRepositoryInterface  {\n",
      "\n",
      "    /** @var \\Magento\\Quote\\Model  */\n",
      "    protected $quoteRepository;\n",
      "\n",
      "     public function __construct( \\Magento\\Quote   $quoteRepository){\n",
      "\n",
      "        $this->quoteRepository =$quoteRepository;   //  Quote Repo Object to get quote from quote_id .      \n",
      "\n",
      "      }//end constuctor       ()\n",
      "\n",
      "     /**      * {@inheritDoc}      */         public function get($cartId)    {           try{              $quote=$this->quoterepository->getActive($cartId);            return $quote->getTotals();          }catch (NoSuchEntityException  $e){               throw new NoSuchEntityException(__('Cart totals not found.'));             }           }}\n",
      "Response: \n",
      "\n",
      "/**      * {@inheritDoc}      */         public function save($cartId, \\Magento\\Quote\\Api\\Data\\TotalsInterface $totals)    {           try{              $quote=$this->quoterepository->getActive($cartId);            //$quote->setTotals($totals);  //as set totals is protected in quote model               return true;          }catch (NoSuchEntityException  $e){               throw new NoSuchEntityException(__('Cart totals not found.'));             }           }}\n",
      "Response: \n",
      "\n",
      "The above code is used to save the cart totals for a given shopping cart. It retrieves an active quote using the provided cart ID, then sets the totals on that quote object and returns true if successful. If there is no entity with the given ID, it throws an exception saying \"Cart totals not found.\"\n",
      "Response: _string\n",
      "Response:  = \"http://www.baidu.com\"\n",
      "# 访问网址\n",
      "response = urllib2.urlopen(url_string)\n",
      "# 读取内容\n",
      "html_contents = response.read()\n"
     ]
    }
   ],
   "source": [
    "# Store the context from previous response\n",
    "context = \"\"\n",
    "\n",
    "while True:\n",
    "  prompt = input(\"Enter your question/command: \")\n",
    "  prompt = context + prompt\n",
    "\n",
    "  response = openai.Completion.create(\n",
    "    model=\"text-davinci-003\",\n",
    "    prompt=prompt,\n",
    "    temperature=0.6,\n",
    "    max_tokens=2126,\n",
    "    top_p=1,\n",
    "    frequency_penalty=1,\n",
    "    presence_penalty=1\n",
    "  )\n",
    "\n",
    "  generated_text = response[\"choices\"][0][\"text\"]\n",
    "  print(\"Response: \" + generated_text)\n",
    "\n",
    "  # Update the context with generated_text\n",
    "  context = generated_text\n"
   ]
  },
  {
   "cell_type": "code",
   "execution_count": 7,
   "metadata": {},
   "outputs": [
    {
     "name": "stdout",
     "output_type": "stream",
     "text": [
      "The NAB Ordinance was passed in 1999.\n",
      "The NAB Ordinance was passed in October 1999.\n",
      "w\n",
      "\n",
      "The National Accountability Bureau (NAB) Ordinance was passed by the Prime Minister of Pakistan, Nawaz Sharif.\n",
      "The National Accountability Bureau (NAB) Ordinance is a law that criminalizes any act or omission deemed to be corruption, misuse of power, and possession of illegal assets. Offences punishable under the NAB ordinance include bribery, embezzlement, misappropriation of funds, misuse of authority for personal gains, money laundering and terrorism financing. The punishment for these crimes can range from fines to imprisonment depending on the severity and nature of the offence committed.\n",
      "The Election Commission of Pakistan is responsible for holding elections in the country. The commission has been established under Article 218 of the Constitution and is an independent body that works to ensure free, fair, and transparent elections. The commission is also responsible for preparing electoral rolls, delimitation of constituencies, registration of political parties and candidates as well as overseeing all aspects related to election processes.\n",
      "1. Established the Code of Conduct for elections in Pakistan. \n",
      "2. Established a National Database and Registration Authority (NADRA) to ensure that all eligible citizens are registered to vote. \n",
      "3. Introduced electronic voting machines in order to reduce election rigging and frauds. \n",
      "4. Required political parties to submit financial statements detailing their income sources, assets and expenditure during the election campaign period as part of their registration process with the Election Commission of Pakistan (ECP). \n",
      "5. Implemented new measures such as biometric verification systems at polling stations across the country in order to prevent fraudulent voting practices during elections in Pakistan.  \n",
      "6. Set up an independent Complaint Cell within ECP which can address any issues related to electoral malpractices or irregularities on polling day or after results have been announced by ECP .  \n",
      "7 Issued orders banning public gatherings and rallies during elections, with exceptions being made only for those organized by government-approved bodies like educational institutions or religious organizations\n",
      "8. Prohibited foreign funding of political parties and candidates during elections in order to prevent any form of outside influence or interference in the electoral process. \n",
      "9. Set up a National Election Monitoring Cell (NEMC) which is responsible for monitoring the election process nationwide, ensuring compliance with all legal requirements and reporting any irregularities that may occur during the elections. \n",
      "10. Introduced an online voting system for overseas Pakistanis, allowing them to cast their votes without having to travel back home.\n",
      "The Supreme Court of Pakistan has a role to play in the electoral process. It is responsible for hearing and deciding any disputes that arise during the elections, as well as issuing orders related to election laws and regulations. The court also oversees the implementation of reforms proposed by the Election Commission of Pakistan (ECP).\n",
      "The Supreme Court of Pakistan does not issue judgements on vote of confidence motions. The court's role in the electoral process is limited to hearing and deciding disputes that arise during the elections, issuing orders related to election laws and regulations, and overseeing the implementation of reforms proposed by the Election Commission of Pakistan (ECP).\n",
      "motions are the responsibility of the Parliament and are decided by a majority vote.\n",
      "Yes, that is correct. Motions are proposed by members of Parliament and must be approved by a majority vote before they can become law or take effect.\n",
      "Yes, that is correct. Motions must be proposed by members of Parliament and then approved by a majority vote before they can become law or take effect.\n",
      "Manzoor Watto was a British citizen who was detained and tortured by the Pakistani authorities in 2010. He had been accused of being an agent of the Indian government, which he denied. After his case received international attention, he was eventually released without charge and returned to Britain. His case highlighted some issues with human rights abuses in Pakistan, as well as the need for more transparency and accountability from foreign governments when it comes to their citizens abroad.\n",
      ".\n",
      "\n",
      "The Lahore High Court ruled in favor of Manzoor Watto, ordering the Pakistani authorities to release him from detention and pay damages for his unlawful imprisonment and torture. The court also ordered a public inquiry into the circumstances surrounding his arrest and mistreatment by the Pakistani security forces. This ruling was an important step forward in promoting justice for victims of human rights abuses in Pakistan, as well as greater accountability from foreign governments when it comes to their citizens abroad.\n",
      ", public inquiry into circumstances of arrest and mistreatment by pakistani security forces, damages for unlawful imprisonment and torture to be paid, greater accountability from foreign governments when it comes to their citizens abroad\n",
      "1. The government should ensure that any public inquiry into the circumstances of an individual's arrest and mistreatment by Pakistani security forces is conducted in a transparent and thorough manner, with all relevant evidence considered. \n",
      "\n",
      "2. The government should work to secure damages for unlawful imprisonment and torture from the responsible parties, such as Pakistani security forces or foreign governments, when appropriate. \n",
      "\n",
      "3. The government should seek greater accountability from foreign governments when it comes to their citizens abroad; this could include more robust diplomatic efforts to ensure that individuals are not subject to arbitrary detention or ill-treatment while abroad, as well as stronger enforcement of legal obligations under international human rights law where applicable.\n",
      "The Arif Niki vs Manzoor Wattoo case of 1993 was a landmark decision by the Supreme Court of Pakistan in which it held that all citizens have a right to be informed at the time of arrest, as well as their rights during detention. The court also held that any evidence obtained through torture or other forms of cruel and inhuman treatment would not be admissible in court. This decision set an important precedent for protecting individual rights from arbitrary arrests and mistreatment by security forces in Pakistan.\n",
      "?\n",
      "\n",
      "The case began when Arif Niki, a resident of Lahore, Pakistan was arrested and detained by security forces in 1993. He alleged that he had been tortured and ill-treated while in custody. Manzoor Wattoo, the then Chief Minister of Punjab province (in which Lahore is located) was accused of ordering his arrest.  \n",
      "\n",
      "Niki filed a petition before the Supreme Court challenging his detention on grounds that it violated his fundamental rights under the Constitution of Pakistan. The Supreme Court held that all citizens have a right to be informed at the time of arrest as well as their rights during detention, and any evidence obtained through torture or other forms of cruel and inhuman treatment would not be admissible in court. This decision set an important precedent for protecting individual rights from arbitrary arrests and mistreatment by security forces in Pakistan.\n",
      "online\n",
      "\n",
      "The Supreme Court of Pakistan decision in Arif Niki v. Manzoor Wattoo was issued on April 10, 1995 and can be found online here:  http://www.pakistanlawsite.com/BLOG/Arif-Niki-v.-Manzoor-Wattoo/.\n",
      "1995.\n",
      "In 1995, the World Trade Organization (WTO) was established to replace the General Agreement on Tariffs and Trade (GATT). The WTO aimed to reduce tariffs and other barriers to international trade between its member states. In addition, it provided a forum for members to discuss trade issues and settle disputes. It also sought to promote global economic growth by providing an environment that encourages free trade among nations. Other important events from 1995 include: \n",
      "\n",
      "• The Dayton Peace Agreement ends the Bosnian War in December. \n",
      "• Microsoft releases Windows 95 in August. \n",
      "• OJ Simpson is acquitted of murder charges in October after a highly publicized trial. \n",
      "• NATO launches air strikes against Bosnian Serb forces in February following a massacre at Srebrenica earlier that month. \n",
      "• The Montreal Protocol is signed which commits signatories to reducing emissions of ozone-depleting substances such as CFCs by 50%.\n"
     ]
    }
   ],
   "source": [
    "#Conext from previous command\n",
    "# previous_context = \"Pakistan\"\n",
    "\n",
    "# while True:\n",
    "#     user_prompt = input(\"Enter your prompt: \")\n",
    "#     prompt = previous_context + \": \" + user_prompt\n",
    "#     response = openai.Completion.create(\n",
    "#       model=\"text-davinci-003\",\n",
    "#       prompt=prompt,\n",
    "#       temperature=0.6,\n",
    "#       max_tokens=2126,\n",
    "#       top_p=1,\n",
    "#       frequency_penalty=1,\n",
    "#       presence_penalty=1\n",
    "#     )\n",
    "#     previous_context = response[\"choices\"][0][\"text\"].strip()\n",
    "#     print(previous_context)"
   ]
  }
 ],
 "metadata": {
  "kernelspec": {
   "display_name": "Python 3",
   "language": "python",
   "name": "python3"
  },
  "language_info": {
   "codemirror_mode": {
    "name": "ipython",
    "version": 3
   },
   "file_extension": ".py",
   "mimetype": "text/x-python",
   "name": "python",
   "nbconvert_exporter": "python",
   "pygments_lexer": "ipython3",
   "version": "3.8.10"
  },
  "orig_nbformat": 4,
  "vscode": {
   "interpreter": {
    "hash": "2d7d4e9f13a6eab9f50b49ff3bd20338fbd4c06c54136b36b7db0b5a45e9efc5"
   }
  }
 },
 "nbformat": 4,
 "nbformat_minor": 2
}
