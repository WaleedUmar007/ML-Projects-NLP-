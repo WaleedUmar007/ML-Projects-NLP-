{
 "cells": [
  {
   "cell_type": "code",
   "execution_count": 3,
   "metadata": {},
   "outputs": [],
   "source": [
    "import pandas as pd\n",
    "\n",
    "# Load the original CSV file\n",
    "df = pd.read_csv('counselchat.csv')\n",
    "\n",
    "# Filter rows with desired topics and non-null values\n",
    "topics = ['Anxiety', 'Depression', 'Grief', 'Relationships']\n",
    "filtered_df = df[df['topics'].isin(topics) & df['questionText'].notna() & df['topics'].notna()]\n",
    "\n",
    "# Create new CSV file with filtered rows\n",
    "filtered_df.to_csv('filtered.csv', index=False)\n"
   ]
  },
  {
   "cell_type": "code",
   "execution_count": null,
   "metadata": {},
   "outputs": [],
   "source": []
  }
 ],
 "metadata": {
  "kernelspec": {
   "display_name": "Python 3",
   "language": "python",
   "name": "python3"
  },
  "language_info": {
   "codemirror_mode": {
    "name": "ipython",
    "version": 3
   },
   "file_extension": ".py",
   "mimetype": "text/x-python",
   "name": "python",
   "nbconvert_exporter": "python",
   "pygments_lexer": "ipython3",
   "version": "3.8.10"
  },
  "orig_nbformat": 4,
  "vscode": {
   "interpreter": {
    "hash": "2d7d4e9f13a6eab9f50b49ff3bd20338fbd4c06c54136b36b7db0b5a45e9efc5"
   }
  }
 },
 "nbformat": 4,
 "nbformat_minor": 2
}
