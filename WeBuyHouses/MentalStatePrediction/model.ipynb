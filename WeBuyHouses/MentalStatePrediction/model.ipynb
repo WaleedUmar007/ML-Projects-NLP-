{
 "cells": [
  {
   "cell_type": "code",
   "execution_count": 1,
   "metadata": {},
   "outputs": [],
   "source": [
    "import pandas as pd\n",
    "from sklearn.feature_extraction.text import TfidfVectorizer\n",
    "from sklearn.ensemble import RandomForestClassifier\n",
    "from nltk.tokenize import word_tokenize\n",
    "from nltk.stem import WordNetLemmatizer\n",
    "import re"
   ]
  },
  {
   "cell_type": "code",
   "execution_count": 3,
   "metadata": {},
   "outputs": [
    {
     "data": {
      "text/html": [
       "<div>\n",
       "<style scoped>\n",
       "    .dataframe tbody tr th:only-of-type {\n",
       "        vertical-align: middle;\n",
       "    }\n",
       "\n",
       "    .dataframe tbody tr th {\n",
       "        vertical-align: top;\n",
       "    }\n",
       "\n",
       "    .dataframe thead th {\n",
       "        text-align: right;\n",
       "    }\n",
       "</style>\n",
       "<table border=\"1\" class=\"dataframe\">\n",
       "  <thead>\n",
       "    <tr style=\"text-align: right;\">\n",
       "      <th></th>\n",
       "      <th>questionText</th>\n",
       "      <th>topics</th>\n",
       "    </tr>\n",
       "  </thead>\n",
       "  <tbody>\n",
       "    <tr>\n",
       "      <th>0</th>\n",
       "      <td>I had a head injury a few years ago and my min...</td>\n",
       "      <td>Anxiety</td>\n",
       "    </tr>\n",
       "    <tr>\n",
       "      <th>1</th>\n",
       "      <td>Me and my girlfriend just broke up. She said s...</td>\n",
       "      <td>Relationships</td>\n",
       "    </tr>\n",
       "    <tr>\n",
       "      <th>2</th>\n",
       "      <td>I have been with this guy on and off for 8 yea...</td>\n",
       "      <td>Relationships</td>\n",
       "    </tr>\n",
       "    <tr>\n",
       "      <th>3</th>\n",
       "      <td>I have been with a guy for 4 years,  he's a gr...</td>\n",
       "      <td>Relationships</td>\n",
       "    </tr>\n",
       "    <tr>\n",
       "      <th>4</th>\n",
       "      <td>What do I do if I have been feeling like I cou...</td>\n",
       "      <td>Relationships</td>\n",
       "    </tr>\n",
       "  </tbody>\n",
       "</table>\n",
       "</div>"
      ],
      "text/plain": [
       "                                        questionText         topics\n",
       "0  I had a head injury a few years ago and my min...        Anxiety\n",
       "1  Me and my girlfriend just broke up. She said s...  Relationships\n",
       "2  I have been with this guy on and off for 8 yea...  Relationships\n",
       "3  I have been with a guy for 4 years,  he's a gr...  Relationships\n",
       "4  What do I do if I have been feeling like I cou...  Relationships"
      ]
     },
     "execution_count": 3,
     "metadata": {},
     "output_type": "execute_result"
    }
   ],
   "source": [
    "# Load data from CSV file\n",
    "df = pd.read_csv('filtered.csv')\n",
    "df.head()\n"
   ]
  },
  {
   "cell_type": "code",
   "execution_count": 4,
   "metadata": {},
   "outputs": [],
   "source": [
    "# Drop rows with null values in either questionText or topics\n",
    "df.dropna(subset=['questionText', 'topics'], inplace=True)"
   ]
  },
  {
   "cell_type": "code",
   "execution_count": 5,
   "metadata": {},
   "outputs": [],
   "source": [
    "# Clean tweet text\n",
    "def clean_question_text(text):\n",
    "    # Remove URLs from tweet text\n",
    "    text = re.sub(r'http\\S+', '', text)\n",
    "    # Remove special characters and digits\n",
    "    text = re.sub(r'[^\\w\\s]', '', text)\n",
    "    text = re.sub(r'\\d+', '', text)\n",
    "    # Tokenize tweet text\n",
    "    tokens = word_tokenize(text.lower())\n",
    "    # Lemmatize tokens\n",
    "    lemmatizer = WordNetLemmatizer()\n",
    "    tokens = [lemmatizer.lemmatize(token) for token in tokens]\n",
    "    # Return cleaned tweet text\n",
    "    return ' '.join(tokens)"
   ]
  },
  {
   "cell_type": "code",
   "execution_count": 6,
   "metadata": {},
   "outputs": [],
   "source": [
    "# Clean question text\n",
    "df['clean_question_text'] = df['questionText'].apply(clean_question_text)"
   ]
  },
  {
   "cell_type": "code",
   "execution_count": 7,
   "metadata": {},
   "outputs": [],
   "source": [
    "# Split data into training and testing sets\n",
    "train = df.sample(frac=0.8, random_state=1)\n",
    "test = df.drop(train.index)"
   ]
  },
  {
   "cell_type": "code",
   "execution_count": 8,
   "metadata": {},
   "outputs": [],
   "source": [
    "# Convert cleaned question text into TF-IDF matrix\n",
    "vectorizer = TfidfVectorizer(stop_words='english', max_features=1000)\n",
    "X_train = vectorizer.fit_transform(train['clean_question_text']).toarray()\n",
    "X_test = vectorizer.transform(test['clean_question_text']).toarray()"
   ]
  },
  {
   "cell_type": "code",
   "execution_count": 9,
   "metadata": {},
   "outputs": [],
   "source": [
    "# Create label vectors for training and testing sets\n",
    "y_train = train['topics'].values\n",
    "y_test = test['topics'].values"
   ]
  },
  {
   "cell_type": "code",
   "execution_count": 18,
   "metadata": {},
   "outputs": [
    {
     "data": {
      "text/plain": [
       "RandomForestClassifier(n_estimators=250, random_state=2)"
      ]
     },
     "execution_count": 18,
     "metadata": {},
     "output_type": "execute_result"
    }
   ],
   "source": [
    "# Train a Random Forest classifier on the training data\n",
    "rfc = RandomForestClassifier(n_estimators=250, random_state=2)\n",
    "rfc.fit(X_train, y_train)"
   ]
  },
  {
   "cell_type": "code",
   "execution_count": 19,
   "metadata": {},
   "outputs": [],
   "source": [
    "# Define function to predict topic from question text\n",
    "def predict_topic(question_text):\n",
    "    # Clean question text\n",
    "    clean_question = clean_question_text(question_text)\n",
    "    # Convert cleaned question text to TF-IDF matrix\n",
    "    X = vectorizer.transform([clean_question]).toarray()\n",
    "    # Predict topic using trained Random Forest classifier\n",
    "    predicted_topic = rfc.predict(X)[0]\n",
    "    # Return predicted topic\n",
    "    return predicted_topic"
   ]
  },
  {
   "cell_type": "code",
   "execution_count": 24,
   "metadata": {},
   "outputs": [
    {
     "name": "stdout",
     "output_type": "stream",
     "text": [
      "Relationships\n"
     ]
    }
   ],
   "source": [
    "question = \"I don't know how to tell someone how I feel about them. How can I get better at expressing how I feel?\"\n",
    "predicted_topic = predict_topic(question)\n",
    "print(predicted_topic)"
   ]
  }
 ],
 "metadata": {
  "kernelspec": {
   "display_name": "Python 3",
   "language": "python",
   "name": "python3"
  },
  "language_info": {
   "codemirror_mode": {
    "name": "ipython",
    "version": 3
   },
   "file_extension": ".py",
   "mimetype": "text/x-python",
   "name": "python",
   "nbconvert_exporter": "python",
   "pygments_lexer": "ipython3",
   "version": "3.8.10"
  },
  "orig_nbformat": 4,
  "vscode": {
   "interpreter": {
    "hash": "2d7d4e9f13a6eab9f50b49ff3bd20338fbd4c06c54136b36b7db0b5a45e9efc5"
   }
  }
 },
 "nbformat": 4,
 "nbformat_minor": 2
}
