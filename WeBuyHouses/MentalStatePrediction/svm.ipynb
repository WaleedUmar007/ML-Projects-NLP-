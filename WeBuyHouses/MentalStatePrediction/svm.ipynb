{
 "cells": [
  {
   "cell_type": "code",
   "execution_count": 5,
   "metadata": {},
   "outputs": [],
   "source": [
    "import pandas as pd\n",
    "from sklearn.feature_extraction.text import TfidfVectorizer\n",
    "from sklearn.svm import SVC\n",
    "from nltk.tokenize import word_tokenize\n",
    "from nltk.stem import WordNetLemmatizer\n",
    "import re\n",
    "\n",
    "# Load data from CSV file\n",
    "df = pd.read_csv('filtered.csv')\n",
    "\n",
    "# Clean tweet text\n",
    "def clean_tweet_text(tweet):\n",
    "    # Remove URLs from tweet text\n",
    "    tweet = re.sub(r'http\\S+', '', tweet)\n",
    "    # Remove special characters and digits\n",
    "    tweet = re.sub(r'[^\\w\\s]', '', tweet)\n",
    "    tweet = re.sub(r'\\d+', '', tweet)\n",
    "    # Tokenize tweet text\n",
    "    tokens = word_tokenize(tweet.lower())\n",
    "    # Lemmatize tokens\n",
    "    lemmatizer = WordNetLemmatizer()\n",
    "    tokens = [lemmatizer.lemmatize(token) for token in tokens]\n",
    "    # Return cleaned tweet text\n",
    "    return ' '.join(tokens)\n",
    "\n",
    "# Clean tweet text\n",
    "df['clean_tweet_text'] = df['questionText'].apply(clean_tweet_text)\n",
    "\n",
    "# Split data into training and testing sets\n",
    "train = df.sample(frac=0.8, random_state=1)\n",
    "test = df.drop(train.index)\n",
    "\n",
    "# Convert cleaned tweet text into TF-IDF matrix\n",
    "vectorizer = TfidfVectorizer(stop_words='english', max_features=1000)\n",
    "X_train = vectorizer.fit_transform(train['clean_tweet_text']).toarray()\n",
    "X_test = vectorizer.transform(test['clean_tweet_text']).toarray()\n",
    "\n",
    "# Create label vectors for training and testing sets\n",
    "y_train = train['topics'].values\n",
    "y_test = test['topics'].values\n",
    "\n",
    "# Train a Support Vector Machine classifier on the training data\n",
    "svm = SVC(kernel='linear', random_state=1)\n",
    "svm.fit(X_train, y_train)\n",
    "\n",
    "# Define function to predict emotion from tweet text\n",
    "def predict_emotion(tweet):\n",
    "    # Clean tweet text\n",
    "    clean_tweet = clean_tweet_text(tweet)\n",
    "    # Convert cleaned tweet text to TF-IDF matrix\n",
    "    X = vectorizer.transform([clean_tweet]).toarray()\n",
    "    # Predict emotion using trained Support Vector Machine classifier\n",
    "    predicted_emotion = svm.predict(X)[0]\n",
    "    # Return predicted emotion\n",
    "    return predicted_emotion\n"
   ]
  },
  {
   "cell_type": "code",
   "execution_count": 6,
   "metadata": {},
   "outputs": [
    {
     "name": "stdout",
     "output_type": "stream",
     "text": [
      "Anxiety\n"
     ]
    }
   ],
   "source": [
    "question = \"I can't stop worrying about the future, my mind keeps racing with negative thoughts and I feel like I can't breathe.\"\n",
    "predicted_emotion = predict_emotion(question)\n",
    "print(predicted_emotion)"
   ]
  }
 ],
 "metadata": {
  "kernelspec": {
   "display_name": "Python 3",
   "language": "python",
   "name": "python3"
  },
  "language_info": {
   "codemirror_mode": {
    "name": "ipython",
    "version": 3
   },
   "file_extension": ".py",
   "mimetype": "text/x-python",
   "name": "python",
   "nbconvert_exporter": "python",
   "pygments_lexer": "ipython3",
   "version": "3.8.10"
  },
  "orig_nbformat": 4,
  "vscode": {
   "interpreter": {
    "hash": "2d7d4e9f13a6eab9f50b49ff3bd20338fbd4c06c54136b36b7db0b5a45e9efc5"
   }
  }
 },
 "nbformat": 4,
 "nbformat_minor": 2
}
